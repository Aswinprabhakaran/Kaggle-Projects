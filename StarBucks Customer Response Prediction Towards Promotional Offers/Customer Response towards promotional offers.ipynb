{
 "cells": [
  {
   "cell_type": "code",
   "execution_count": 47,
   "id": "72e461a8",
   "metadata": {},
   "outputs": [],
   "source": [
    "import pandas as pd\n",
    "import numpy as np\n",
    "import math\n",
    "import json\n",
    "import matplotlib.pyplot as plt\n",
    "import datetime\n",
    "import seaborn as sns\n",
    "# % matplotlib inline\n",
    "import ast\n",
    "\n",
    "\n",
    "\n",
    "from sklearn.model_selection import train_test_split\n",
    "from sklearn.linear_model import LogisticRegression\n",
    "\n",
    "from sklearn.ensemble import RandomForestClassifier\n",
    "\n",
    "from sklearn import metrics"
   ]
  },
  {
   "cell_type": "code",
   "execution_count": 2,
   "id": "31d02efe",
   "metadata": {},
   "outputs": [],
   "source": [
    "def compare_results_with_groundtruth(y_true, y_pred, Model_name):\n",
    "    print(\"Prediction Model :\", Model_name),\n",
    "    print(\"Classification Report :\"),\n",
    "    print(metrics.classification_report(y_true, y_pred))\n",
    "    print(\"Accuracy Score :\", metrics.accuracy_score(y_true, y_pred))\n",
    "    print(\"Confusion Matrix :\")\n",
    "    cnf_mat = metrics.confusion_matrix(y_true, y_pred)\n",
    "    metrics.ConfusionMatrixDisplay(cnf_mat, display_labels=set(y_true)).plot()"
   ]
  },
  {
   "cell_type": "code",
   "execution_count": 3,
   "id": "d9658295",
   "metadata": {},
   "outputs": [],
   "source": [
    "portfolio = pd.read_csv(\"./portfolio.csv\")\n",
    "\n",
    "profile = pd.read_csv(\"./profile.csv\")\n",
    "\n",
    "transcript = pd.read_csv(\"./transcript.csv\")"
   ]
  },
  {
   "cell_type": "code",
   "execution_count": 4,
   "id": "d3f7a803",
   "metadata": {},
   "outputs": [
    {
     "name": "stdout",
     "output_type": "stream",
     "text": [
      "<class 'pandas.core.frame.DataFrame'>\n",
      "RangeIndex: 17000 entries, 0 to 16999\n",
      "Data columns (total 6 columns):\n",
      " #   Column            Non-Null Count  Dtype  \n",
      "---  ------            --------------  -----  \n",
      " 0   Unnamed: 0        17000 non-null  int64  \n",
      " 1   gender            14825 non-null  object \n",
      " 2   age               17000 non-null  int64  \n",
      " 3   id                17000 non-null  object \n",
      " 4   became_member_on  17000 non-null  int64  \n",
      " 5   income            14825 non-null  float64\n",
      "dtypes: float64(1), int64(3), object(2)\n",
      "memory usage: 797.0+ KB\n"
     ]
    }
   ],
   "source": [
    "profile.info()"
   ]
  },
  {
   "cell_type": "code",
   "execution_count": 5,
   "id": "9d9acb12",
   "metadata": {},
   "outputs": [
    {
     "name": "stdout",
     "output_type": "stream",
     "text": [
      "<class 'pandas.core.frame.DataFrame'>\n",
      "RangeIndex: 10 entries, 0 to 9\n",
      "Data columns (total 7 columns):\n",
      " #   Column      Non-Null Count  Dtype \n",
      "---  ------      --------------  ----- \n",
      " 0   Unnamed: 0  10 non-null     int64 \n",
      " 1   reward      10 non-null     int64 \n",
      " 2   channels    10 non-null     object\n",
      " 3   difficulty  10 non-null     int64 \n",
      " 4   duration    10 non-null     int64 \n",
      " 5   offer_type  10 non-null     object\n",
      " 6   id          10 non-null     object\n",
      "dtypes: int64(4), object(3)\n",
      "memory usage: 688.0+ bytes\n"
     ]
    }
   ],
   "source": [
    "portfolio.info()"
   ]
  },
  {
   "cell_type": "code",
   "execution_count": 6,
   "id": "771447ed",
   "metadata": {},
   "outputs": [
    {
     "name": "stdout",
     "output_type": "stream",
     "text": [
      "<class 'pandas.core.frame.DataFrame'>\n",
      "RangeIndex: 306534 entries, 0 to 306533\n",
      "Data columns (total 5 columns):\n",
      " #   Column      Non-Null Count   Dtype \n",
      "---  ------      --------------   ----- \n",
      " 0   Unnamed: 0  306534 non-null  int64 \n",
      " 1   person      306534 non-null  object\n",
      " 2   event       306534 non-null  object\n",
      " 3   value       306534 non-null  object\n",
      " 4   time        306534 non-null  int64 \n",
      "dtypes: int64(2), object(3)\n",
      "memory usage: 11.7+ MB\n"
     ]
    }
   ],
   "source": [
    "transcript.info()"
   ]
  },
  {
   "cell_type": "code",
   "execution_count": 7,
   "id": "8b40bd59",
   "metadata": {},
   "outputs": [
    {
     "data": {
      "text/html": [
       "<div>\n",
       "<style scoped>\n",
       "    .dataframe tbody tr th:only-of-type {\n",
       "        vertical-align: middle;\n",
       "    }\n",
       "\n",
       "    .dataframe tbody tr th {\n",
       "        vertical-align: top;\n",
       "    }\n",
       "\n",
       "    .dataframe thead th {\n",
       "        text-align: right;\n",
       "    }\n",
       "</style>\n",
       "<table border=\"1\" class=\"dataframe\">\n",
       "  <thead>\n",
       "    <tr style=\"text-align: right;\">\n",
       "      <th></th>\n",
       "      <th>Unnamed: 0</th>\n",
       "      <th>reward</th>\n",
       "      <th>difficulty</th>\n",
       "      <th>duration</th>\n",
       "    </tr>\n",
       "  </thead>\n",
       "  <tbody>\n",
       "    <tr>\n",
       "      <th>count</th>\n",
       "      <td>10.00000</td>\n",
       "      <td>10.000000</td>\n",
       "      <td>10.000000</td>\n",
       "      <td>10.000000</td>\n",
       "    </tr>\n",
       "    <tr>\n",
       "      <th>mean</th>\n",
       "      <td>4.50000</td>\n",
       "      <td>4.200000</td>\n",
       "      <td>7.700000</td>\n",
       "      <td>6.500000</td>\n",
       "    </tr>\n",
       "    <tr>\n",
       "      <th>std</th>\n",
       "      <td>3.02765</td>\n",
       "      <td>3.583915</td>\n",
       "      <td>5.831905</td>\n",
       "      <td>2.321398</td>\n",
       "    </tr>\n",
       "    <tr>\n",
       "      <th>min</th>\n",
       "      <td>0.00000</td>\n",
       "      <td>0.000000</td>\n",
       "      <td>0.000000</td>\n",
       "      <td>3.000000</td>\n",
       "    </tr>\n",
       "    <tr>\n",
       "      <th>25%</th>\n",
       "      <td>2.25000</td>\n",
       "      <td>2.000000</td>\n",
       "      <td>5.000000</td>\n",
       "      <td>5.000000</td>\n",
       "    </tr>\n",
       "    <tr>\n",
       "      <th>50%</th>\n",
       "      <td>4.50000</td>\n",
       "      <td>4.000000</td>\n",
       "      <td>8.500000</td>\n",
       "      <td>7.000000</td>\n",
       "    </tr>\n",
       "    <tr>\n",
       "      <th>75%</th>\n",
       "      <td>6.75000</td>\n",
       "      <td>5.000000</td>\n",
       "      <td>10.000000</td>\n",
       "      <td>7.000000</td>\n",
       "    </tr>\n",
       "    <tr>\n",
       "      <th>max</th>\n",
       "      <td>9.00000</td>\n",
       "      <td>10.000000</td>\n",
       "      <td>20.000000</td>\n",
       "      <td>10.000000</td>\n",
       "    </tr>\n",
       "  </tbody>\n",
       "</table>\n",
       "</div>"
      ],
      "text/plain": [
       "       Unnamed: 0     reward  difficulty   duration\n",
       "count    10.00000  10.000000   10.000000  10.000000\n",
       "mean      4.50000   4.200000    7.700000   6.500000\n",
       "std       3.02765   3.583915    5.831905   2.321398\n",
       "min       0.00000   0.000000    0.000000   3.000000\n",
       "25%       2.25000   2.000000    5.000000   5.000000\n",
       "50%       4.50000   4.000000    8.500000   7.000000\n",
       "75%       6.75000   5.000000   10.000000   7.000000\n",
       "max       9.00000  10.000000   20.000000  10.000000"
      ]
     },
     "execution_count": 7,
     "metadata": {},
     "output_type": "execute_result"
    }
   ],
   "source": [
    "portfolio.describe()"
   ]
  },
  {
   "cell_type": "code",
   "execution_count": 8,
   "id": "2b68eadf",
   "metadata": {},
   "outputs": [
    {
     "data": {
      "text/html": [
       "<div>\n",
       "<style scoped>\n",
       "    .dataframe tbody tr th:only-of-type {\n",
       "        vertical-align: middle;\n",
       "    }\n",
       "\n",
       "    .dataframe tbody tr th {\n",
       "        vertical-align: top;\n",
       "    }\n",
       "\n",
       "    .dataframe thead th {\n",
       "        text-align: right;\n",
       "    }\n",
       "</style>\n",
       "<table border=\"1\" class=\"dataframe\">\n",
       "  <thead>\n",
       "    <tr style=\"text-align: right;\">\n",
       "      <th></th>\n",
       "      <th>Unnamed: 0</th>\n",
       "      <th>age</th>\n",
       "      <th>became_member_on</th>\n",
       "      <th>income</th>\n",
       "    </tr>\n",
       "  </thead>\n",
       "  <tbody>\n",
       "    <tr>\n",
       "      <th>count</th>\n",
       "      <td>17000.000000</td>\n",
       "      <td>17000.000000</td>\n",
       "      <td>1.700000e+04</td>\n",
       "      <td>14825.000000</td>\n",
       "    </tr>\n",
       "    <tr>\n",
       "      <th>mean</th>\n",
       "      <td>8499.500000</td>\n",
       "      <td>62.531412</td>\n",
       "      <td>2.016703e+07</td>\n",
       "      <td>65404.991568</td>\n",
       "    </tr>\n",
       "    <tr>\n",
       "      <th>std</th>\n",
       "      <td>4907.621624</td>\n",
       "      <td>26.738580</td>\n",
       "      <td>1.167750e+04</td>\n",
       "      <td>21598.299410</td>\n",
       "    </tr>\n",
       "    <tr>\n",
       "      <th>min</th>\n",
       "      <td>0.000000</td>\n",
       "      <td>18.000000</td>\n",
       "      <td>2.013073e+07</td>\n",
       "      <td>30000.000000</td>\n",
       "    </tr>\n",
       "    <tr>\n",
       "      <th>25%</th>\n",
       "      <td>4249.750000</td>\n",
       "      <td>45.000000</td>\n",
       "      <td>2.016053e+07</td>\n",
       "      <td>49000.000000</td>\n",
       "    </tr>\n",
       "    <tr>\n",
       "      <th>50%</th>\n",
       "      <td>8499.500000</td>\n",
       "      <td>58.000000</td>\n",
       "      <td>2.017080e+07</td>\n",
       "      <td>64000.000000</td>\n",
       "    </tr>\n",
       "    <tr>\n",
       "      <th>75%</th>\n",
       "      <td>12749.250000</td>\n",
       "      <td>73.000000</td>\n",
       "      <td>2.017123e+07</td>\n",
       "      <td>80000.000000</td>\n",
       "    </tr>\n",
       "    <tr>\n",
       "      <th>max</th>\n",
       "      <td>16999.000000</td>\n",
       "      <td>118.000000</td>\n",
       "      <td>2.018073e+07</td>\n",
       "      <td>120000.000000</td>\n",
       "    </tr>\n",
       "  </tbody>\n",
       "</table>\n",
       "</div>"
      ],
      "text/plain": [
       "         Unnamed: 0           age  became_member_on         income\n",
       "count  17000.000000  17000.000000      1.700000e+04   14825.000000\n",
       "mean    8499.500000     62.531412      2.016703e+07   65404.991568\n",
       "std     4907.621624     26.738580      1.167750e+04   21598.299410\n",
       "min        0.000000     18.000000      2.013073e+07   30000.000000\n",
       "25%     4249.750000     45.000000      2.016053e+07   49000.000000\n",
       "50%     8499.500000     58.000000      2.017080e+07   64000.000000\n",
       "75%    12749.250000     73.000000      2.017123e+07   80000.000000\n",
       "max    16999.000000    118.000000      2.018073e+07  120000.000000"
      ]
     },
     "execution_count": 8,
     "metadata": {},
     "output_type": "execute_result"
    }
   ],
   "source": [
    "profile.describe()"
   ]
  },
  {
   "cell_type": "code",
   "execution_count": 9,
   "id": "cdf2dfee",
   "metadata": {},
   "outputs": [
    {
     "data": {
      "text/html": [
       "<div>\n",
       "<style scoped>\n",
       "    .dataframe tbody tr th:only-of-type {\n",
       "        vertical-align: middle;\n",
       "    }\n",
       "\n",
       "    .dataframe tbody tr th {\n",
       "        vertical-align: top;\n",
       "    }\n",
       "\n",
       "    .dataframe thead th {\n",
       "        text-align: right;\n",
       "    }\n",
       "</style>\n",
       "<table border=\"1\" class=\"dataframe\">\n",
       "  <thead>\n",
       "    <tr style=\"text-align: right;\">\n",
       "      <th></th>\n",
       "      <th>Unnamed: 0</th>\n",
       "      <th>time</th>\n",
       "    </tr>\n",
       "  </thead>\n",
       "  <tbody>\n",
       "    <tr>\n",
       "      <th>count</th>\n",
       "      <td>306534.000000</td>\n",
       "      <td>306534.000000</td>\n",
       "    </tr>\n",
       "    <tr>\n",
       "      <th>mean</th>\n",
       "      <td>153266.500000</td>\n",
       "      <td>366.382940</td>\n",
       "    </tr>\n",
       "    <tr>\n",
       "      <th>std</th>\n",
       "      <td>88488.888045</td>\n",
       "      <td>200.326314</td>\n",
       "    </tr>\n",
       "    <tr>\n",
       "      <th>min</th>\n",
       "      <td>0.000000</td>\n",
       "      <td>0.000000</td>\n",
       "    </tr>\n",
       "    <tr>\n",
       "      <th>25%</th>\n",
       "      <td>76633.250000</td>\n",
       "      <td>186.000000</td>\n",
       "    </tr>\n",
       "    <tr>\n",
       "      <th>50%</th>\n",
       "      <td>153266.500000</td>\n",
       "      <td>408.000000</td>\n",
       "    </tr>\n",
       "    <tr>\n",
       "      <th>75%</th>\n",
       "      <td>229899.750000</td>\n",
       "      <td>528.000000</td>\n",
       "    </tr>\n",
       "    <tr>\n",
       "      <th>max</th>\n",
       "      <td>306533.000000</td>\n",
       "      <td>714.000000</td>\n",
       "    </tr>\n",
       "  </tbody>\n",
       "</table>\n",
       "</div>"
      ],
      "text/plain": [
       "          Unnamed: 0           time\n",
       "count  306534.000000  306534.000000\n",
       "mean   153266.500000     366.382940\n",
       "std     88488.888045     200.326314\n",
       "min         0.000000       0.000000\n",
       "25%     76633.250000     186.000000\n",
       "50%    153266.500000     408.000000\n",
       "75%    229899.750000     528.000000\n",
       "max    306533.000000     714.000000"
      ]
     },
     "execution_count": 9,
     "metadata": {},
     "output_type": "execute_result"
    }
   ],
   "source": [
    "transcript.describe()"
   ]
  },
  {
   "cell_type": "code",
   "execution_count": 10,
   "id": "21a8c684",
   "metadata": {},
   "outputs": [
    {
     "data": {
      "text/plain": [
       "Unnamed: 0             0\n",
       "gender              2175\n",
       "age                    0\n",
       "id                     0\n",
       "became_member_on       0\n",
       "income              2175\n",
       "dtype: int64"
      ]
     },
     "execution_count": 10,
     "metadata": {},
     "output_type": "execute_result"
    }
   ],
   "source": [
    "profile.isna().sum()"
   ]
  },
  {
   "cell_type": "code",
   "execution_count": 11,
   "id": "9956fbc5",
   "metadata": {},
   "outputs": [
    {
     "data": {
      "text/plain": [
       "Unnamed: 0    0\n",
       "reward        0\n",
       "channels      0\n",
       "difficulty    0\n",
       "duration      0\n",
       "offer_type    0\n",
       "id            0\n",
       "dtype: int64"
      ]
     },
     "execution_count": 11,
     "metadata": {},
     "output_type": "execute_result"
    }
   ],
   "source": [
    "portfolio.isna().sum()"
   ]
  },
  {
   "cell_type": "code",
   "execution_count": 12,
   "id": "3c5165b9",
   "metadata": {},
   "outputs": [
    {
     "data": {
      "text/plain": [
       "Unnamed: 0    0\n",
       "person        0\n",
       "event         0\n",
       "value         0\n",
       "time          0\n",
       "dtype: int64"
      ]
     },
     "execution_count": 12,
     "metadata": {},
     "output_type": "execute_result"
    }
   ],
   "source": [
    "transcript.isna().sum()"
   ]
  },
  {
   "cell_type": "markdown",
   "id": "5ef8adb1",
   "metadata": {},
   "source": [
    "### Data Cleaning"
   ]
  },
  {
   "cell_type": "code",
   "execution_count": 13,
   "id": "97c9085d",
   "metadata": {},
   "outputs": [],
   "source": [
    "#drop unnamed:0 column from all dataframes\n",
    "profile.drop('Unnamed: 0', axis=1, inplace=True)\n",
    "transcript.drop('Unnamed: 0', axis=1, inplace=True)\n",
    "portfolio.drop('Unnamed: 0', axis=1, inplace=True)"
   ]
  },
  {
   "cell_type": "code",
   "execution_count": 14,
   "id": "866c624d",
   "metadata": {},
   "outputs": [],
   "source": [
    "profile.dropna(inplace=True)"
   ]
  },
  {
   "cell_type": "code",
   "execution_count": 15,
   "id": "36c0d8e9",
   "metadata": {},
   "outputs": [
    {
     "name": "stdout",
     "output_type": "stream",
     "text": [
      "<class 'pandas.core.frame.DataFrame'>\n",
      "Int64Index: 14825 entries, 1 to 16999\n",
      "Data columns (total 5 columns):\n",
      " #   Column            Non-Null Count  Dtype  \n",
      "---  ------            --------------  -----  \n",
      " 0   gender            14825 non-null  object \n",
      " 1   age               14825 non-null  int64  \n",
      " 2   id                14825 non-null  object \n",
      " 3   became_member_on  14825 non-null  int64  \n",
      " 4   income            14825 non-null  float64\n",
      "dtypes: float64(1), int64(2), object(2)\n",
      "memory usage: 694.9+ KB\n"
     ]
    }
   ],
   "source": [
    "profile.info()"
   ]
  },
  {
   "cell_type": "markdown",
   "id": "8b22b8e8",
   "metadata": {},
   "source": [
    "### Exploratory data analysis"
   ]
  },
  {
   "cell_type": "code",
   "execution_count": 16,
   "id": "e77c6fb3",
   "metadata": {},
   "outputs": [
    {
     "data": {
      "text/html": [
       "<div>\n",
       "<style scoped>\n",
       "    .dataframe tbody tr th:only-of-type {\n",
       "        vertical-align: middle;\n",
       "    }\n",
       "\n",
       "    .dataframe tbody tr th {\n",
       "        vertical-align: top;\n",
       "    }\n",
       "\n",
       "    .dataframe thead th {\n",
       "        text-align: right;\n",
       "    }\n",
       "</style>\n",
       "<table border=\"1\" class=\"dataframe\">\n",
       "  <thead>\n",
       "    <tr style=\"text-align: right;\">\n",
       "      <th></th>\n",
       "      <th>gender</th>\n",
       "      <th>age</th>\n",
       "      <th>id</th>\n",
       "      <th>became_member_on</th>\n",
       "      <th>income</th>\n",
       "    </tr>\n",
       "  </thead>\n",
       "  <tbody>\n",
       "    <tr>\n",
       "      <th>1</th>\n",
       "      <td>F</td>\n",
       "      <td>55</td>\n",
       "      <td>0610b486422d4921ae7d2bf64640c50b</td>\n",
       "      <td>20170715</td>\n",
       "      <td>112000.0</td>\n",
       "    </tr>\n",
       "    <tr>\n",
       "      <th>3</th>\n",
       "      <td>F</td>\n",
       "      <td>75</td>\n",
       "      <td>78afa995795e4d85b5d9ceeca43f5fef</td>\n",
       "      <td>20170509</td>\n",
       "      <td>100000.0</td>\n",
       "    </tr>\n",
       "    <tr>\n",
       "      <th>5</th>\n",
       "      <td>M</td>\n",
       "      <td>68</td>\n",
       "      <td>e2127556f4f64592b11af22de27a7932</td>\n",
       "      <td>20180426</td>\n",
       "      <td>70000.0</td>\n",
       "    </tr>\n",
       "    <tr>\n",
       "      <th>8</th>\n",
       "      <td>M</td>\n",
       "      <td>65</td>\n",
       "      <td>389bc3fa690240e798340f5a15918d5c</td>\n",
       "      <td>20180209</td>\n",
       "      <td>53000.0</td>\n",
       "    </tr>\n",
       "    <tr>\n",
       "      <th>12</th>\n",
       "      <td>M</td>\n",
       "      <td>58</td>\n",
       "      <td>2eeac8d8feae4a8cad5a6af0499a211d</td>\n",
       "      <td>20171111</td>\n",
       "      <td>51000.0</td>\n",
       "    </tr>\n",
       "    <tr>\n",
       "      <th>...</th>\n",
       "      <td>...</td>\n",
       "      <td>...</td>\n",
       "      <td>...</td>\n",
       "      <td>...</td>\n",
       "      <td>...</td>\n",
       "    </tr>\n",
       "    <tr>\n",
       "      <th>16995</th>\n",
       "      <td>F</td>\n",
       "      <td>45</td>\n",
       "      <td>6d5f3a774f3d4714ab0c092238f3a1d7</td>\n",
       "      <td>20180604</td>\n",
       "      <td>54000.0</td>\n",
       "    </tr>\n",
       "    <tr>\n",
       "      <th>16996</th>\n",
       "      <td>M</td>\n",
       "      <td>61</td>\n",
       "      <td>2cb4f97358b841b9a9773a7aa05a9d77</td>\n",
       "      <td>20180713</td>\n",
       "      <td>72000.0</td>\n",
       "    </tr>\n",
       "    <tr>\n",
       "      <th>16997</th>\n",
       "      <td>M</td>\n",
       "      <td>49</td>\n",
       "      <td>01d26f638c274aa0b965d24cefe3183f</td>\n",
       "      <td>20170126</td>\n",
       "      <td>73000.0</td>\n",
       "    </tr>\n",
       "    <tr>\n",
       "      <th>16998</th>\n",
       "      <td>F</td>\n",
       "      <td>83</td>\n",
       "      <td>9dc1421481194dcd9400aec7c9ae6366</td>\n",
       "      <td>20160307</td>\n",
       "      <td>50000.0</td>\n",
       "    </tr>\n",
       "    <tr>\n",
       "      <th>16999</th>\n",
       "      <td>F</td>\n",
       "      <td>62</td>\n",
       "      <td>e4052622e5ba45a8b96b59aba68cf068</td>\n",
       "      <td>20170722</td>\n",
       "      <td>82000.0</td>\n",
       "    </tr>\n",
       "  </tbody>\n",
       "</table>\n",
       "<p>14825 rows × 5 columns</p>\n",
       "</div>"
      ],
      "text/plain": [
       "      gender  age                                id  became_member_on  \\\n",
       "1          F   55  0610b486422d4921ae7d2bf64640c50b          20170715   \n",
       "3          F   75  78afa995795e4d85b5d9ceeca43f5fef          20170509   \n",
       "5          M   68  e2127556f4f64592b11af22de27a7932          20180426   \n",
       "8          M   65  389bc3fa690240e798340f5a15918d5c          20180209   \n",
       "12         M   58  2eeac8d8feae4a8cad5a6af0499a211d          20171111   \n",
       "...      ...  ...                               ...               ...   \n",
       "16995      F   45  6d5f3a774f3d4714ab0c092238f3a1d7          20180604   \n",
       "16996      M   61  2cb4f97358b841b9a9773a7aa05a9d77          20180713   \n",
       "16997      M   49  01d26f638c274aa0b965d24cefe3183f          20170126   \n",
       "16998      F   83  9dc1421481194dcd9400aec7c9ae6366          20160307   \n",
       "16999      F   62  e4052622e5ba45a8b96b59aba68cf068          20170722   \n",
       "\n",
       "         income  \n",
       "1      112000.0  \n",
       "3      100000.0  \n",
       "5       70000.0  \n",
       "8       53000.0  \n",
       "12      51000.0  \n",
       "...         ...  \n",
       "16995   54000.0  \n",
       "16996   72000.0  \n",
       "16997   73000.0  \n",
       "16998   50000.0  \n",
       "16999   82000.0  \n",
       "\n",
       "[14825 rows x 5 columns]"
      ]
     },
     "execution_count": 16,
     "metadata": {},
     "output_type": "execute_result"
    }
   ],
   "source": [
    "profile"
   ]
  },
  {
   "cell_type": "code",
   "execution_count": 17,
   "id": "36f34604",
   "metadata": {},
   "outputs": [
    {
     "data": {
      "image/png": "[encoded data removed]",
      "text/plain": [
       "<Figure size 1080x360 with 1 Axes>"
      ]
     },
     "metadata": {
      "needs_background": "light"
     },
     "output_type": "display_data"
    }
   ],
   "source": [
    "fig = plt.figure(figsize=(15,5))\n",
    "sns.histplot(profile['gender'])\n",
    "plt.title(\"Distribution of gender\")\n",
    "plt.show()"
   ]
  },
  {
   "cell_type": "code",
   "execution_count": 18,
   "id": "ea5a63a5",
   "metadata": {},
   "outputs": [
    {
     "data": {
      "image/png": "[encoded data removed]",
      "text/plain": [
       "<Figure size 1080x360 with 1 Axes>"
      ]
     },
     "metadata": {
      "needs_background": "light"
     },
     "output_type": "display_data"
    }
   ],
   "source": [
    "fig = plt.figure(figsize=(15,5))\n",
    "sns.histplot(profile['age'])\n",
    "plt.title(\"Distribution of age\")\n",
    "plt.show()"
   ]
  },
  {
   "cell_type": "code",
   "execution_count": 19,
   "id": "4c6d25aa",
   "metadata": {},
   "outputs": [
    {
     "data": {
      "image/png": "[encoded data removed]",
      "text/plain": [
       "<Figure size 1440x720 with 1 Axes>"
      ]
     },
     "metadata": {
      "needs_background": "light"
     },
     "output_type": "display_data"
    }
   ],
   "source": [
    "fig = plt.figure(figsize=(20,10))\n",
    "sns.histplot(profile, x='age', hue='gender', bins=30)\n",
    "plt.title('Age vs gender')\n",
    "plt.show()"
   ]
  },
  {
   "cell_type": "code",
   "execution_count": 20,
   "id": "30f95298",
   "metadata": {},
   "outputs": [
    {
     "data": {
      "image/png": "[encoded data removed]",
      "text/plain": [
       "<Figure size 1080x360 with 1 Axes>"
      ]
     },
     "metadata": {
      "needs_background": "light"
     },
     "output_type": "display_data"
    }
   ],
   "source": [
    "fig = plt.figure(figsize=(15,5))\n",
    "sns.histplot(profile['income'])\n",
    "plt.title(\"Distrubtion of income\")\n",
    "plt.show()"
   ]
  },
  {
   "cell_type": "code",
   "execution_count": 21,
   "id": "93ceed8b",
   "metadata": {},
   "outputs": [
    {
     "data": {
      "image/png": "[encoded data removed]",
      "text/plain": [
       "<Figure size 1440x720 with 1 Axes>"
      ]
     },
     "metadata": {
      "needs_background": "light"
     },
     "output_type": "display_data"
    }
   ],
   "source": [
    "fig = plt.figure(figsize=(20,10))\n",
    "sns.histplot(profile, x='income', hue='gender', bins=100)\n",
    "plt.title('Income vs gender')\n",
    "plt.show()"
   ]
  },
  {
   "cell_type": "code",
   "execution_count": 22,
   "id": "5103926a",
   "metadata": {},
   "outputs": [],
   "source": [
    "profile['became_member_on'] = pd.to_datetime(profile['became_member_on'], format='%Y%m%d')"
   ]
  },
  {
   "cell_type": "code",
   "execution_count": 23,
   "id": "27b99f08",
   "metadata": {},
   "outputs": [],
   "source": [
    "profile['year'] = profile['became_member_on'].apply(lambda x : x.year)\n",
    "profile['month'] = profile['became_member_on'].apply(lambda x : x.month)\n",
    "profile['day'] = profile['became_member_on'].apply(lambda x : x.day)\n",
    "profile['quarter'] = profile['became_member_on'].apply(lambda x : x.quarter)\n",
    "profile['day_name'] = profile['became_member_on'].apply(lambda x : x.day_name())"
   ]
  },
  {
   "cell_type": "code",
   "execution_count": 24,
   "id": "8354d570",
   "metadata": {},
   "outputs": [
    {
     "data": {
      "image/png": "[encoded data removed]",
      "text/plain": [
       "<Figure size 1080x360 with 1 Axes>"
      ]
     },
     "metadata": {
      "needs_background": "light"
     },
     "output_type": "display_data"
    }
   ],
   "source": [
    "fig = plt.figure(figsize=(15,5))\n",
    "sns.histplot(profile['year'], bins=10)\n",
    "plt.title(\"Distrubtion of enrolment of customers\")\n",
    "plt.show()"
   ]
  },
  {
   "cell_type": "markdown",
   "id": "5ceb7c9c",
   "metadata": {},
   "source": [
    "Although the no of custumers who enrolled into the membership increased, we could see that it decreased in 2018 clearly"
   ]
  },
  {
   "cell_type": "code",
   "execution_count": 25,
   "id": "dc0f7917",
   "metadata": {},
   "outputs": [
    {
     "data": {
      "image/png": "[encoded data removed]",
      "text/plain": [
       "<Figure size 1080x360 with 1 Axes>"
      ]
     },
     "metadata": {
      "needs_background": "light"
     },
     "output_type": "display_data"
    }
   ],
   "source": [
    "fig = plt.figure(figsize=(15,5))\n",
    "sns.histplot(profile['month'], bins=15)\n",
    "plt.title(\"Distrubtion of enrolment of customers\")\n",
    "plt.show()"
   ]
  },
  {
   "cell_type": "code",
   "execution_count": 26,
   "id": "f5e0cf1a",
   "metadata": {},
   "outputs": [
    {
     "data": {
      "image/png": "[encoded data removed]",
      "text/plain": [
       "<Figure size 1080x360 with 1 Axes>"
      ]
     },
     "metadata": {
      "needs_background": "light"
     },
     "output_type": "display_data"
    }
   ],
   "source": [
    "fig = plt.figure(figsize=(15,5))\n",
    "sns.histplot(profile['quarter'], bins=4)\n",
    "plt.title(\"Distrubtion of enrolment of customers\")\n",
    "plt.show()"
   ]
  },
  {
   "cell_type": "code",
   "execution_count": 27,
   "id": "a32cd7f7",
   "metadata": {},
   "outputs": [
    {
     "data": {
      "image/png": "[encoded data removed]",
      "text/plain": [
       "<Figure size 1080x360 with 1 Axes>"
      ]
     },
     "metadata": {
      "needs_background": "light"
     },
     "output_type": "display_data"
    }
   ],
   "source": [
    "fig = plt.figure(figsize=(15,5))\n",
    "sns.histplot(profile['day_name'], bins=10)\n",
    "plt.title(\"Distrubtion of enrolment of customers\")\n",
    "plt.show()"
   ]
  },
  {
   "cell_type": "code",
   "execution_count": null,
   "id": "2c28fc3e",
   "metadata": {},
   "outputs": [],
   "source": []
  },
  {
   "cell_type": "code",
   "execution_count": 28,
   "id": "940cf464",
   "metadata": {},
   "outputs": [],
   "source": [
    "def substitute(value):\n",
    "    \n",
    "    some = [x for x in list(value.keys()) if \"offer\" in x]\n",
    "    \n",
    "    if len(some) != 0:\n",
    "        return value[some[0]]\n",
    "    else:\n",
    "        return np.nan"
   ]
  },
  {
   "cell_type": "code",
   "execution_count": 29,
   "id": "47acf242",
   "metadata": {},
   "outputs": [],
   "source": [
    "transcript['value'] = transcript['value'].apply(lambda x :ast.literal_eval(x))\n",
    "\n",
    "transcript['offer_id_used'] = transcript['value'].apply(lambda x : substitute(value=x)) \n",
    "transcript['amount_spend'] = transcript['value'].apply(lambda x : x['amount'] if \"amount\" in x else np.nan)\n",
    "\n",
    "transcript.drop('value', inplace=True, axis = 1)"
   ]
  },
  {
   "cell_type": "code",
   "execution_count": 30,
   "id": "dc4480ac",
   "metadata": {},
   "outputs": [],
   "source": [
    "transcript.rename(columns={'person':'id'}, inplace=True)"
   ]
  },
  {
   "cell_type": "code",
   "execution_count": 31,
   "id": "6caeb3f4",
   "metadata": {},
   "outputs": [],
   "source": [
    "df = profile.merge(transcript, on=\"id\", how = \"inner\")"
   ]
  },
  {
   "cell_type": "code",
   "execution_count": 32,
   "id": "ba6832c4",
   "metadata": {},
   "outputs": [
    {
     "data": {
      "image/png": "[encoded data removed]",
      "text/plain": [
       "<Figure size 1440x720 with 1 Axes>"
      ]
     },
     "metadata": {
      "needs_background": "light"
     },
     "output_type": "display_data"
    }
   ],
   "source": [
    "fig = plt.figure(figsize=(20,10))\n",
    "sns.barplot(x= ['F','M','O'], y=df.groupby('gender').sum().amount_spend.values)\n",
    "plt.title('Amount spent vs gender')\n",
    "plt.show()"
   ]
  },
  {
   "cell_type": "code",
   "execution_count": 33,
   "id": "3db4a447",
   "metadata": {},
   "outputs": [
    {
     "data": {
      "text/plain": [
       "Text(0.5, 1.0, 'Total transactions per year per gender')"
      ]
     },
     "execution_count": 33,
     "metadata": {},
     "output_type": "execute_result"
    },
    {
     "data": {
      "image/png": "[encoded data removed]",
      "text/plain": [
       "<Figure size 1440x720 with 1 Axes>"
      ]
     },
     "metadata": {
      "needs_background": "light"
     },
     "output_type": "display_data"
    }
   ],
   "source": [
    "fig = plt.figure(figsize=(20,10))\n",
    "sns.lineplot(x=df.groupby(['gender','year']).sum().amount_spend.loc['O'].index, \n",
    "             y=df.groupby(['gender','year']).sum().amount_spend.loc['O'].values , label='Other')\n",
    "sns.lineplot(x=df.groupby(['gender','year']).sum().amount_spend.loc['M'].index, \n",
    "             y=df.groupby(['gender','year']).sum().amount_spend.loc['M'].values , label='Male')\n",
    "sns.lineplot(x=df.groupby(['gender','year']).sum().amount_spend.loc['F'].index, \n",
    "             y=df.groupby(['gender','year']).sum().amount_spend.loc['F'].values , label='Female')\n",
    "plt.ylabel('total transactions')\n",
    "plt.title('Total transactions per year per gender')"
   ]
  },
  {
   "cell_type": "code",
   "execution_count": 34,
   "id": "42d3d872",
   "metadata": {},
   "outputs": [],
   "source": [
    "portfolio.rename(columns={\"id\": \"offer_id_used\"}, inplace=True)"
   ]
  },
  {
   "cell_type": "code",
   "execution_count": 35,
   "id": "ff058a68",
   "metadata": {},
   "outputs": [],
   "source": [
    "df = df.merge(portfolio, on = \"offer_id_used\", how=\"inner\")"
   ]
  },
  {
   "cell_type": "code",
   "execution_count": 36,
   "id": "6a35773e",
   "metadata": {},
   "outputs": [],
   "source": [
    "df=pd.concat([df, pd.get_dummies(df['event'])], axis=1)"
   ]
  },
  {
   "cell_type": "code",
   "execution_count": 37,
   "id": "5b5663db",
   "metadata": {},
   "outputs": [],
   "source": [
    "df = pd.concat([df, pd.get_dummies(df['gender'])], axis = 1)\n",
    "df = pd.concat([df, pd.get_dummies(df['offer_type'])], axis = 1)"
   ]
  },
  {
   "cell_type": "code",
   "execution_count": null,
   "id": "ccc77a53",
   "metadata": {},
   "outputs": [],
   "source": []
  },
  {
   "cell_type": "code",
   "execution_count": 38,
   "id": "d14d332a",
   "metadata": {},
   "outputs": [],
   "source": [
    "main_list = []\n",
    "\n",
    "for x in df['channels']:\n",
    "    main_list.extend(ast.literal_eval(x))\n",
    "    \n",
    "main_list = list(set(main_list))\n",
    "\n",
    "for channel_name in main_list:\n",
    "    \n",
    "    df[channel_name] = df['channels'].apply(lambda x : 1 if channel_name in x else 0)"
   ]
  },
  {
   "cell_type": "code",
   "execution_count": 39,
   "id": "c711e29d",
   "metadata": {},
   "outputs": [
    {
     "data": {
      "text/plain": [
       "Index(['gender', 'age', 'id', 'became_member_on', 'income', 'year', 'month',\n",
       "       'day', 'quarter', 'day_name', 'event', 'time', 'offer_id_used',\n",
       "       'amount_spend', 'reward', 'channels', 'difficulty', 'duration',\n",
       "       'offer_type', 'offer completed', 'offer received', 'offer viewed', 'F',\n",
       "       'M', 'O', 'bogo', 'discount', 'informational', 'social', 'web', 'email',\n",
       "       'mobile'],\n",
       "      dtype='object')"
      ]
     },
     "execution_count": 39,
     "metadata": {},
     "output_type": "execute_result"
    }
   ],
   "source": [
    "df.columns"
   ]
  },
  {
   "cell_type": "code",
   "execution_count": 40,
   "id": "05ec011d",
   "metadata": {},
   "outputs": [],
   "source": [
    "df.drop(['gender', \"became_member_on\", \"day_name\", \"event\", \"offer_type\", \"id\", \"offer_id_used\", \"channels\", \"amount_spend\"], inplace=True, axis = 1)"
   ]
  },
  {
   "cell_type": "code",
   "execution_count": 41,
   "id": "68c63b8c",
   "metadata": {},
   "outputs": [],
   "source": [
    "X = df.drop(\"offer completed\", axis=1)\n",
    "Y = df['offer completed']"
   ]
  },
  {
   "cell_type": "code",
   "execution_count": 42,
   "id": "44ec4a0b",
   "metadata": {},
   "outputs": [],
   "source": [
    "X_train, X_test, Y_train, Y_test = train_test_split(X, Y, random_state=101, train_size=0.3)"
   ]
  },
  {
   "cell_type": "code",
   "execution_count": 46,
   "id": "08f11612",
   "metadata": {},
   "outputs": [
    {
     "name": "stdout",
     "output_type": "stream",
     "text": [
      "Prediction Model : Logistic Regression\n",
      "Classification Report :\n",
      "              precision    recall  f1-score   support\n",
      "\n",
      "           0       0.78      0.99      0.88     81381\n",
      "           1       0.48      0.03      0.05     22783\n",
      "\n",
      "    accuracy                           0.78    104164\n",
      "   macro avg       0.63      0.51      0.46    104164\n",
      "weighted avg       0.72      0.78      0.70    104164\n",
      "\n",
      "Accuracy Score : 0.7807975884182635\n",
      "Confusion Matrix :\n"
     ]
    },
    {
     "data": {
      "image/png": "[encoded data removed]",
      "text/plain": [
       "<Figure size 432x288 with 2 Axes>"
      ]
     },
     "metadata": {
      "needs_background": "light"
     },
     "output_type": "display_data"
    }
   ],
   "source": [
    "LR = LogisticRegression()\n",
    "LR.fit(X_train, Y_train)\n",
    "Y_test_pred_LR = LR.predict(X_test)\n",
    "compare_results_with_groundtruth(y_true=Y_test, y_pred=Y_test_pred_LR, Model_name=\"Logistic Regression\")"
   ]
  },
  {
   "cell_type": "code",
   "execution_count": 48,
   "id": "44172dd8",
   "metadata": {},
   "outputs": [
    {
     "name": "stdout",
     "output_type": "stream",
     "text": [
      "Prediction Model : Random forest\n",
      "Classification Report :\n",
      "              precision    recall  f1-score   support\n",
      "\n",
      "           0       1.00      1.00      1.00     81381\n",
      "           1       1.00      1.00      1.00     22783\n",
      "\n",
      "    accuracy                           1.00    104164\n",
      "   macro avg       1.00      1.00      1.00    104164\n",
      "weighted avg       1.00      1.00      1.00    104164\n",
      "\n",
      "Accuracy Score : 1.0\n",
      "Confusion Matrix :\n"
     ]
    },
    {
     "data": {
      "image/png": "[encoded data removed]",
      "text/plain": [
       "<Figure size 432x288 with 2 Axes>"
      ]
     },
     "metadata": {
      "needs_background": "light"
     },
     "output_type": "display_data"
    }
   ],
   "source": [
    "RF = RandomForestClassifier()\n",
    "RF.fit(X_train, Y_train)\n",
    "Y_test_pred_RF = RF.predict(X_test)\n",
    "compare_results_with_groundtruth(y_true=Y_test, y_pred=Y_test_pred_RF, Model_name=\"Random forest\")"
   ]
  },
  {
   "cell_type": "code",
   "execution_count": null,
   "id": "f3a9477d",
   "metadata": {},
   "outputs": [],
   "source": []
  }
 ],
 "metadata": {
  "kernelspec": {
   "display_name": "Python 3 (ipykernel)",
   "language": "python",
   "name": "python3"
  },
  "language_info": {
   "codemirror_mode": {
    "name": "ipython",
    "version": 3
   },
   "file_extension": ".py",
   "mimetype": "text/x-python",
   "name": "python",
   "nbconvert_exporter": "python",
   "pygments_lexer": "ipython3",
   "version": "3.10.2"
  }
 },
 "nbformat": 4,
 "nbformat_minor": 5
}
